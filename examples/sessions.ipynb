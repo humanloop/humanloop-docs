{
 "cells": [
  {
   "cell_type": "code",
   "execution_count": 2,
   "metadata": {},
   "outputs": [
    {
     "name": "stdout",
     "output_type": "stream",
     "text": [
      "Requirement already satisfied: humanloop==0.8.0b5 in /Users/jordanburgess/Projects/humanloop-docs/.venv/lib/python3.12/site-packages (0.8.0b5)\n",
      "Requirement already satisfied: httpx>=0.21.2 in /Users/jordanburgess/Projects/humanloop-docs/.venv/lib/python3.12/site-packages (from humanloop==0.8.0b5) (0.27.0)\n",
      "Requirement already satisfied: pydantic>=1.9.2 in /Users/jordanburgess/Projects/humanloop-docs/.venv/lib/python3.12/site-packages (from humanloop==0.8.0b5) (2.8.2)\n",
      "Requirement already satisfied: typing_extensions>=4.0.0 in /Users/jordanburgess/Projects/humanloop-docs/.venv/lib/python3.12/site-packages (from humanloop==0.8.0b5) (4.12.2)\n",
      "Requirement already satisfied: anyio in /Users/jordanburgess/Projects/humanloop-docs/.venv/lib/python3.12/site-packages (from httpx>=0.21.2->humanloop==0.8.0b5) (4.4.0)\n",
      "Requirement already satisfied: certifi in /Users/jordanburgess/Projects/humanloop-docs/.venv/lib/python3.12/site-packages (from httpx>=0.21.2->humanloop==0.8.0b5) (2024.7.4)\n",
      "Requirement already satisfied: httpcore==1.* in /Users/jordanburgess/Projects/humanloop-docs/.venv/lib/python3.12/site-packages (from httpx>=0.21.2->humanloop==0.8.0b5) (1.0.5)\n",
      "Requirement already satisfied: idna in /Users/jordanburgess/Projects/humanloop-docs/.venv/lib/python3.12/site-packages (from httpx>=0.21.2->humanloop==0.8.0b5) (3.7)\n",
      "Requirement already satisfied: sniffio in /Users/jordanburgess/Projects/humanloop-docs/.venv/lib/python3.12/site-packages (from httpx>=0.21.2->humanloop==0.8.0b5) (1.3.1)\n",
      "Requirement already satisfied: h11<0.15,>=0.13 in /Users/jordanburgess/Projects/humanloop-docs/.venv/lib/python3.12/site-packages (from httpcore==1.*->httpx>=0.21.2->humanloop==0.8.0b5) (0.14.0)\n",
      "Requirement already satisfied: annotated-types>=0.4.0 in /Users/jordanburgess/Projects/humanloop-docs/.venv/lib/python3.12/site-packages (from pydantic>=1.9.2->humanloop==0.8.0b5) (0.7.0)\n",
      "Requirement already satisfied: pydantic-core==2.20.1 in /Users/jordanburgess/Projects/humanloop-docs/.venv/lib/python3.12/site-packages (from pydantic>=1.9.2->humanloop==0.8.0b5) (2.20.1)\n",
      "Requirement already satisfied: openai in /Users/jordanburgess/Projects/humanloop-docs/.venv/lib/python3.12/site-packages (1.37.0)\n",
      "Requirement already satisfied: anyio<5,>=3.5.0 in /Users/jordanburgess/Projects/humanloop-docs/.venv/lib/python3.12/site-packages (from openai) (4.4.0)\n",
      "Requirement already satisfied: distro<2,>=1.7.0 in /Users/jordanburgess/Projects/humanloop-docs/.venv/lib/python3.12/site-packages (from openai) (1.9.0)\n",
      "Requirement already satisfied: httpx<1,>=0.23.0 in /Users/jordanburgess/Projects/humanloop-docs/.venv/lib/python3.12/site-packages (from openai) (0.27.0)\n",
      "Requirement already satisfied: pydantic<3,>=1.9.0 in /Users/jordanburgess/Projects/humanloop-docs/.venv/lib/python3.12/site-packages (from openai) (2.8.2)\n",
      "Requirement already satisfied: sniffio in /Users/jordanburgess/Projects/humanloop-docs/.venv/lib/python3.12/site-packages (from openai) (1.3.1)\n",
      "Requirement already satisfied: tqdm>4 in /Users/jordanburgess/Projects/humanloop-docs/.venv/lib/python3.12/site-packages (from openai) (4.66.4)\n",
      "Requirement already satisfied: typing-extensions<5,>=4.7 in /Users/jordanburgess/Projects/humanloop-docs/.venv/lib/python3.12/site-packages (from openai) (4.12.2)\n",
      "Requirement already satisfied: idna>=2.8 in /Users/jordanburgess/Projects/humanloop-docs/.venv/lib/python3.12/site-packages (from anyio<5,>=3.5.0->openai) (3.7)\n",
      "Requirement already satisfied: certifi in /Users/jordanburgess/Projects/humanloop-docs/.venv/lib/python3.12/site-packages (from httpx<1,>=0.23.0->openai) (2024.7.4)\n",
      "Requirement already satisfied: httpcore==1.* in /Users/jordanburgess/Projects/humanloop-docs/.venv/lib/python3.12/site-packages (from httpx<1,>=0.23.0->openai) (1.0.5)\n",
      "Requirement already satisfied: h11<0.15,>=0.13 in /Users/jordanburgess/Projects/humanloop-docs/.venv/lib/python3.12/site-packages (from httpcore==1.*->httpx<1,>=0.23.0->openai) (0.14.0)\n",
      "Requirement already satisfied: annotated-types>=0.4.0 in /Users/jordanburgess/Projects/humanloop-docs/.venv/lib/python3.12/site-packages (from pydantic<3,>=1.9.0->openai) (0.7.0)\n",
      "Requirement already satisfied: pydantic-core==2.20.1 in /Users/jordanburgess/Projects/humanloop-docs/.venv/lib/python3.12/site-packages (from pydantic<3,>=1.9.0->openai) (2.20.1)\n"
     ]
    }
   ],
   "source": [
    "!pip install humanloop==0.8.0b5\n",
    "!pip install openai"
   ]
  },
  {
   "cell_type": "code",
   "execution_count": 4,
   "metadata": {},
   "outputs": [],
   "source": [
    "from humanloop import ChatMessage, PromptKernelRequest\n",
    "from humanloop.client import Humanloop"
   ]
  },
  {
   "cell_type": "code",
   "execution_count": 5,
   "metadata": {},
   "outputs": [
    {
     "data": {
      "text/plain": [
       "PromptKernelRequest(model='gpt-4', endpoint=None, template=None, provider=None, max_tokens=None, temperature=None, top_p=None, stop=None, presence_penalty=None, frequency_penalty=None, other=None, seed=None, response_format=None, tools=None, linked_tools=None)"
      ]
     },
     "execution_count": 5,
     "metadata": {},
     "output_type": "execute_result"
    }
   ],
   "source": [
    "PromptKernelRequest(model=\"gpt-4\")"
   ]
  },
  {
   "cell_type": "code",
   "execution_count": null,
   "metadata": {},
   "outputs": [],
   "source": []
  }
 ],
 "metadata": {
  "kernelspec": {
   "display_name": ".venv",
   "language": "python",
   "name": "python3"
  },
  "language_info": {
   "codemirror_mode": {
    "name": "ipython",
    "version": 3
   },
   "file_extension": ".py",
   "mimetype": "text/x-python",
   "name": "python",
   "nbconvert_exporter": "python",
   "pygments_lexer": "ipython3",
   "version": "3.12.0"
  }
 },
 "nbformat": 4,
 "nbformat_minor": 2
}
