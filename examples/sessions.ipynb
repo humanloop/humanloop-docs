{
 "cells": [
  {
   "cell_type": "code",
   "execution_count": 1,
   "metadata": {},
   "outputs": [
    {
     "name": "stdout",
     "output_type": "stream",
     "text": [
      "Requirement already satisfied: humanloop==0.8.0b5 in /Users/jordanburgess/Projects/humanloop-docs/.venv/lib/python3.12/site-packages (0.8.0b5)\n",
      "Requirement already satisfied: httpx>=0.21.2 in /Users/jordanburgess/Projects/humanloop-docs/.venv/lib/python3.12/site-packages (from humanloop==0.8.0b5) (0.27.0)\n",
      "Requirement already satisfied: pydantic>=1.9.2 in /Users/jordanburgess/Projects/humanloop-docs/.venv/lib/python3.12/site-packages (from humanloop==0.8.0b5) (2.8.2)\n",
      "Requirement already satisfied: typing_extensions>=4.0.0 in /Users/jordanburgess/Projects/humanloop-docs/.venv/lib/python3.12/site-packages (from humanloop==0.8.0b5) (4.12.2)\n",
      "Requirement already satisfied: anyio in /Users/jordanburgess/Projects/humanloop-docs/.venv/lib/python3.12/site-packages (from httpx>=0.21.2->humanloop==0.8.0b5) (4.4.0)\n",
      "Requirement already satisfied: certifi in /Users/jordanburgess/Projects/humanloop-docs/.venv/lib/python3.12/site-packages (from httpx>=0.21.2->humanloop==0.8.0b5) (2024.7.4)\n",
      "Requirement already satisfied: httpcore==1.* in /Users/jordanburgess/Projects/humanloop-docs/.venv/lib/python3.12/site-packages (from httpx>=0.21.2->humanloop==0.8.0b5) (1.0.5)\n",
      "Requirement already satisfied: idna in /Users/jordanburgess/Projects/humanloop-docs/.venv/lib/python3.12/site-packages (from httpx>=0.21.2->humanloop==0.8.0b5) (3.7)\n",
      "Requirement already satisfied: sniffio in /Users/jordanburgess/Projects/humanloop-docs/.venv/lib/python3.12/site-packages (from httpx>=0.21.2->humanloop==0.8.0b5) (1.3.1)\n",
      "Requirement already satisfied: h11<0.15,>=0.13 in /Users/jordanburgess/Projects/humanloop-docs/.venv/lib/python3.12/site-packages (from httpcore==1.*->httpx>=0.21.2->humanloop==0.8.0b5) (0.14.0)\n",
      "Requirement already satisfied: annotated-types>=0.4.0 in /Users/jordanburgess/Projects/humanloop-docs/.venv/lib/python3.12/site-packages (from pydantic>=1.9.2->humanloop==0.8.0b5) (0.7.0)\n",
      "Requirement already satisfied: pydantic-core==2.20.1 in /Users/jordanburgess/Projects/humanloop-docs/.venv/lib/python3.12/site-packages (from pydantic>=1.9.2->humanloop==0.8.0b5) (2.20.1)\n",
      "Note: you may need to restart the kernel to use updated packages.\n",
      "Requirement already satisfied: openai in /Users/jordanburgess/Projects/humanloop-docs/.venv/lib/python3.12/site-packages (1.37.0)\n",
      "Requirement already satisfied: anyio<5,>=3.5.0 in /Users/jordanburgess/Projects/humanloop-docs/.venv/lib/python3.12/site-packages (from openai) (4.4.0)\n",
      "Requirement already satisfied: distro<2,>=1.7.0 in /Users/jordanburgess/Projects/humanloop-docs/.venv/lib/python3.12/site-packages (from openai) (1.9.0)\n",
      "Requirement already satisfied: httpx<1,>=0.23.0 in /Users/jordanburgess/Projects/humanloop-docs/.venv/lib/python3.12/site-packages (from openai) (0.27.0)\n",
      "Requirement already satisfied: pydantic<3,>=1.9.0 in /Users/jordanburgess/Projects/humanloop-docs/.venv/lib/python3.12/site-packages (from openai) (2.8.2)\n",
      "Requirement already satisfied: sniffio in /Users/jordanburgess/Projects/humanloop-docs/.venv/lib/python3.12/site-packages (from openai) (1.3.1)\n",
      "Requirement already satisfied: tqdm>4 in /Users/jordanburgess/Projects/humanloop-docs/.venv/lib/python3.12/site-packages (from openai) (4.66.4)\n",
      "Requirement already satisfied: typing-extensions<5,>=4.7 in /Users/jordanburgess/Projects/humanloop-docs/.venv/lib/python3.12/site-packages (from openai) (4.12.2)\n",
      "Requirement already satisfied: idna>=2.8 in /Users/jordanburgess/Projects/humanloop-docs/.venv/lib/python3.12/site-packages (from anyio<5,>=3.5.0->openai) (3.7)\n",
      "Requirement already satisfied: certifi in /Users/jordanburgess/Projects/humanloop-docs/.venv/lib/python3.12/site-packages (from httpx<1,>=0.23.0->openai) (2024.7.4)\n",
      "Requirement already satisfied: httpcore==1.* in /Users/jordanburgess/Projects/humanloop-docs/.venv/lib/python3.12/site-packages (from httpx<1,>=0.23.0->openai) (1.0.5)\n",
      "Requirement already satisfied: h11<0.15,>=0.13 in /Users/jordanburgess/Projects/humanloop-docs/.venv/lib/python3.12/site-packages (from httpcore==1.*->httpx<1,>=0.23.0->openai) (0.14.0)\n",
      "Requirement already satisfied: annotated-types>=0.4.0 in /Users/jordanburgess/Projects/humanloop-docs/.venv/lib/python3.12/site-packages (from pydantic<3,>=1.9.0->openai) (0.7.0)\n",
      "Requirement already satisfied: pydantic-core==2.20.1 in /Users/jordanburgess/Projects/humanloop-docs/.venv/lib/python3.12/site-packages (from pydantic<3,>=1.9.0->openai) (2.20.1)\n",
      "Note: you may need to restart the kernel to use updated packages.\n",
      "Requirement already satisfied: python-dotenv in /Users/jordanburgess/Projects/humanloop-docs/.venv/lib/python3.12/site-packages (1.0.1)\n",
      "Note: you may need to restart the kernel to use updated packages.\n",
      "annotated-types==0.7.0\n",
      "anyio==4.4.0\n",
      "appnope==0.1.4\n",
      "asttokens==2.4.1\n",
      "certifi==2024.7.4\n",
      "comm==0.2.2\n",
      "debugpy==1.8.2\n",
      "decorator==5.1.1\n",
      "distro==1.9.0\n",
      "executing==2.0.1\n",
      "h11==0.14.0\n",
      "httpcore==1.0.5\n",
      "httpx==0.27.0\n",
      "humanloop==0.8.0b5\n",
      "idna==3.7\n",
      "ipykernel==6.29.5\n",
      "ipython==8.26.0\n",
      "jedi==0.19.1\n",
      "jupyter_client==8.6.2\n",
      "jupyter_core==5.7.2\n",
      "matplotlib-inline==0.1.7\n",
      "nest-asyncio==1.6.0\n",
      "openai==1.37.0\n",
      "packaging==24.1\n",
      "parso==0.8.4\n",
      "pexpect==4.9.0\n",
      "platformdirs==4.2.2\n",
      "prompt_toolkit==3.0.47\n",
      "psutil==6.0.0\n",
      "ptyprocess==0.7.0\n",
      "pure_eval==0.2.3\n",
      "pydantic==2.8.2\n",
      "pydantic_core==2.20.1\n",
      "Pygments==2.18.0\n",
      "python-dateutil==2.9.0.post0\n",
      "python-dotenv==1.0.1\n",
      "pyzmq==26.0.3\n",
      "six==1.16.0\n",
      "sniffio==1.3.1\n",
      "stack-data==0.6.3\n",
      "tornado==6.4.1\n",
      "tqdm==4.66.4\n",
      "traitlets==5.14.3\n",
      "typing_extensions==4.12.2\n",
      "wcwidth==0.2.13\n",
      "Note: you may need to restart the kernel to use updated packages.\n"
     ]
    }
   ],
   "source": [
    "%pip install humanloop==0.8.0b5\n",
    "%pip install openai \n",
    "%pip install python-dotenv\n",
    "%pip freeze"
   ]
  },
  {
   "cell_type": "code",
   "execution_count": 2,
   "metadata": {},
   "outputs": [],
   "source": [
    "from humanloop import ChatMessage, PromptKernelRequest\n",
    "from humanloop.client import Humanloop"
   ]
  },
  {
   "cell_type": "code",
   "execution_count": 5,
   "metadata": {},
   "outputs": [],
   "source": [
    "\"\"\"\n",
    "# Humanloop sessions tutorial example\n",
    "Given a user request, the code does the following:\n",
    "1. Checks if the user is attempting to abuse the AI assistant.\n",
    "2. Looks up Google for helpful information.\n",
    "3. Answers the user's question.\n",
    "V1 / 2\n",
    "This is the initial version of the code.\n",
    "\"\"\"\n",
    "import os\n",
    "from openai import OpenAI\n",
    "from dotenv import load_dotenv\n",
    "\n",
    "load_dotenv()\n",
    "\n",
    "OPENAI_API_KEY = os.getenv(\"OPENAI_API_KEY\")\n",
    "HUMANLOOP_API_KEY = os.getenv(\"HUMANLOOP_API_KEY\")\n",
    "if HUMANLOOP_API_KEY is None:\n",
    "    raise ValueError(\"HUMANLOOP_API_KEY not found in environment variables\")\n",
    "\n",
    "\n",
    "hl = Humanloop(api_key=HUMANLOOP_API_KEY, base_url=\"https://neostaging.humanloop.ml/v5\")\n",
    "openai = OpenAI(api_key=OPENAI_API_KEY)\n"
   ]
  },
  {
   "cell_type": "code",
   "execution_count": 38,
   "metadata": {},
   "outputs": [
    {
     "ename": "ApiError",
     "evalue": "status_code: 500, body: {'detail': 'Internal server error'}",
     "output_type": "error",
     "traceback": [
      "\u001b[0;31m---------------------------------------------------------------------------\u001b[0m",
      "\u001b[0;31mApiError\u001b[0m                                  Traceback (most recent call last)",
      "Cell \u001b[0;32mIn[38], line 18\u001b[0m\n\u001b[1;32m     15\u001b[0m user_request \u001b[38;5;241m=\u001b[39m \u001b[38;5;124m\"\u001b[39m\u001b[38;5;124mWhat is the meaning of life?\u001b[39m\u001b[38;5;124m\"\u001b[39m\n\u001b[1;32m     17\u001b[0m \u001b[38;5;66;03m# 1. Think of two people who would have different responses to the question\u001b[39;00m\n\u001b[0;32m---> 18\u001b[0m response \u001b[38;5;241m=\u001b[39m \u001b[43mhl\u001b[49m\u001b[38;5;241;43m.\u001b[39;49m\u001b[43mprompts\u001b[49m\u001b[38;5;241;43m.\u001b[39;49m\u001b[43mcall\u001b[49m\u001b[43m(\u001b[49m\n\u001b[1;32m     19\u001b[0m \u001b[43m    \u001b[49m\u001b[43mpath\u001b[49m\u001b[38;5;241;43m=\u001b[39;49m\u001b[38;5;124;43m\"\u001b[39;49m\u001b[38;5;124;43mdocs/session_1\u001b[39;49m\u001b[38;5;124;43m\"\u001b[39;49m\u001b[43m,\u001b[49m\n\u001b[1;32m     20\u001b[0m \u001b[43m    \u001b[49m\u001b[43mprompt\u001b[49m\u001b[38;5;241;43m=\u001b[39;49m\u001b[43m{\u001b[49m\n\u001b[1;32m     21\u001b[0m \u001b[43m        \u001b[49m\u001b[38;5;124;43m\"\u001b[39;49m\u001b[38;5;124;43mmodel\u001b[39;49m\u001b[38;5;124;43m\"\u001b[39;49m\u001b[43m:\u001b[49m\u001b[43m \u001b[49m\u001b[38;5;124;43m\"\u001b[39;49m\u001b[38;5;124;43mgpt-4\u001b[39;49m\u001b[38;5;124;43m\"\u001b[39;49m\u001b[43m,\u001b[49m\n\u001b[1;32m     22\u001b[0m \u001b[43m        \u001b[49m\u001b[38;5;124;43m\"\u001b[39;49m\u001b[38;5;124;43mmessages\u001b[39;49m\u001b[38;5;124;43m\"\u001b[39;49m\u001b[43m:\u001b[49m\u001b[43m \u001b[49m\u001b[43m[\u001b[49m\n\u001b[1;32m     23\u001b[0m \u001b[43m            \u001b[49m\u001b[43m{\u001b[49m\u001b[38;5;124;43m\"\u001b[39;49m\u001b[38;5;124;43mrole\u001b[39;49m\u001b[38;5;124;43m\"\u001b[39;49m\u001b[43m:\u001b[49m\u001b[43m \u001b[49m\u001b[38;5;124;43m\"\u001b[39;49m\u001b[38;5;124;43msystem\u001b[39;49m\u001b[38;5;124;43m\"\u001b[39;49m\u001b[43m,\u001b[49m\u001b[43m \u001b[49m\u001b[38;5;124;43m\"\u001b[39;49m\u001b[38;5;124;43mcontent\u001b[39;49m\u001b[38;5;124;43m\"\u001b[39;49m\u001b[43m:\u001b[49m\u001b[43m \u001b[49m\u001b[38;5;124;43m\"\u001b[39;49m\u001b[38;5;124;43mYou are a moderator for a debate. Think of two people who would have different responses to the question.\u001b[39;49m\u001b[38;5;124;43m\"\u001b[39;49m\u001b[43m}\u001b[49m\u001b[43m,\u001b[49m\n\u001b[1;32m     24\u001b[0m \u001b[43m        \u001b[49m\u001b[43m]\u001b[49m\u001b[43m,\u001b[49m\n\u001b[1;32m     25\u001b[0m \u001b[43m        \u001b[49m\u001b[38;5;124;43m\"\u001b[39;49m\u001b[38;5;124;43mtools\u001b[39;49m\u001b[38;5;124;43m\"\u001b[39;49m\u001b[43m:\u001b[49m\u001b[43m[\u001b[49m\n\u001b[1;32m     26\u001b[0m \u001b[43m            \u001b[49m\u001b[43m{\u001b[49m\n\u001b[1;32m     27\u001b[0m \u001b[43m  \u001b[49m\u001b[38;5;124;43m\"\u001b[39;49m\u001b[38;5;124;43mname\u001b[39;49m\u001b[38;5;124;43m\"\u001b[39;49m\u001b[43m:\u001b[49m\u001b[43m \u001b[49m\u001b[38;5;124;43m\"\u001b[39;49m\u001b[38;5;124;43mget_stock_price\u001b[39;49m\u001b[38;5;124;43m\"\u001b[39;49m\u001b[43m,\u001b[49m\n\u001b[1;32m     28\u001b[0m \u001b[43m  \u001b[49m\u001b[38;5;124;43m\"\u001b[39;49m\u001b[38;5;124;43mdescription\u001b[39;49m\u001b[38;5;124;43m\"\u001b[39;49m\u001b[43m:\u001b[49m\u001b[43m \u001b[49m\u001b[38;5;124;43m\"\u001b[39;49m\u001b[38;5;124;43mGet current stock price\u001b[39;49m\u001b[38;5;124;43m\"\u001b[39;49m\u001b[43m,\u001b[49m\n\u001b[1;32m     29\u001b[0m \u001b[43m  \u001b[49m\u001b[38;5;124;43m\"\u001b[39;49m\u001b[38;5;124;43mparameters\u001b[39;49m\u001b[38;5;124;43m\"\u001b[39;49m\u001b[43m:\u001b[49m\u001b[43m \u001b[49m\u001b[43m{\u001b[49m\n\u001b[1;32m     30\u001b[0m \u001b[43m    \u001b[49m\u001b[38;5;124;43m\"\u001b[39;49m\u001b[38;5;124;43mtype\u001b[39;49m\u001b[38;5;124;43m\"\u001b[39;49m\u001b[43m:\u001b[49m\u001b[43m \u001b[49m\u001b[38;5;124;43m\"\u001b[39;49m\u001b[38;5;124;43mobject\u001b[39;49m\u001b[38;5;124;43m\"\u001b[39;49m\u001b[43m,\u001b[49m\n\u001b[1;32m     31\u001b[0m \u001b[43m    \u001b[49m\u001b[38;5;124;43m\"\u001b[39;49m\u001b[38;5;124;43mproperties\u001b[39;49m\u001b[38;5;124;43m\"\u001b[39;49m\u001b[43m:\u001b[49m\u001b[43m \u001b[49m\u001b[43m{\u001b[49m\n\u001b[1;32m     32\u001b[0m \u001b[43m      \u001b[49m\u001b[38;5;124;43m\"\u001b[39;49m\u001b[38;5;124;43mticker_symbol\u001b[39;49m\u001b[38;5;124;43m\"\u001b[39;49m\u001b[43m:\u001b[49m\u001b[43m \u001b[49m\u001b[43m{\u001b[49m\n\u001b[1;32m     33\u001b[0m \u001b[43m        \u001b[49m\u001b[38;5;124;43m\"\u001b[39;49m\u001b[38;5;124;43mtype\u001b[39;49m\u001b[38;5;124;43m\"\u001b[39;49m\u001b[43m:\u001b[49m\u001b[43m \u001b[49m\u001b[38;5;124;43m\"\u001b[39;49m\u001b[38;5;124;43mstring\u001b[39;49m\u001b[38;5;124;43m\"\u001b[39;49m\u001b[43m,\u001b[49m\n\u001b[1;32m     34\u001b[0m \u001b[43m        \u001b[49m\u001b[38;5;124;43m\"\u001b[39;49m\u001b[38;5;124;43mname\u001b[39;49m\u001b[38;5;124;43m\"\u001b[39;49m\u001b[43m:\u001b[49m\u001b[43m \u001b[49m\u001b[38;5;124;43m\"\u001b[39;49m\u001b[38;5;124;43mTicker Symbol\u001b[39;49m\u001b[38;5;124;43m\"\u001b[39;49m\u001b[43m,\u001b[49m\n\u001b[1;32m     35\u001b[0m \u001b[43m        \u001b[49m\u001b[38;5;124;43m\"\u001b[39;49m\u001b[38;5;124;43mdescription\u001b[39;49m\u001b[38;5;124;43m\"\u001b[39;49m\u001b[43m:\u001b[49m\u001b[43m \u001b[49m\u001b[38;5;124;43m\"\u001b[39;49m\u001b[38;5;124;43mTicker symbol of the stock\u001b[39;49m\u001b[38;5;124;43m\"\u001b[39;49m\n\u001b[1;32m     36\u001b[0m \u001b[43m      \u001b[49m\u001b[43m}\u001b[49m\n\u001b[1;32m     37\u001b[0m \u001b[43m    \u001b[49m\u001b[43m}\u001b[49m\u001b[43m,\u001b[49m\n\u001b[1;32m     38\u001b[0m \u001b[43m    \u001b[49m\u001b[38;5;124;43m\"\u001b[39;49m\u001b[38;5;124;43mrequired\u001b[39;49m\u001b[38;5;124;43m\"\u001b[39;49m\u001b[43m:\u001b[49m\u001b[43m \u001b[49m\u001b[43m[\u001b[49m\u001b[43m]\u001b[49m\n\u001b[1;32m     39\u001b[0m \u001b[43m  \u001b[49m\u001b[43m}\u001b[49m\n\u001b[1;32m     40\u001b[0m \u001b[43m}\u001b[49m\u001b[43m,\u001b[49m\n\u001b[1;32m     41\u001b[0m \u001b[43m        \u001b[49m\u001b[43m]\u001b[49m\n\u001b[1;32m     42\u001b[0m \u001b[43m    \u001b[49m\n\u001b[1;32m     43\u001b[0m \u001b[43m    \u001b[49m\u001b[43m}\u001b[49m\u001b[43m,\u001b[49m\u001b[43m  \u001b[49m\n\u001b[1;32m     44\u001b[0m \u001b[43m    \u001b[49m\u001b[43mmessages\u001b[49m\u001b[38;5;241;43m=\u001b[39;49m\u001b[43m[\u001b[49m\u001b[43m{\u001b[49m\u001b[38;5;124;43m\"\u001b[39;49m\u001b[38;5;124;43mrole\u001b[39;49m\u001b[38;5;124;43m\"\u001b[39;49m\u001b[43m:\u001b[49m\u001b[43m \u001b[49m\u001b[38;5;124;43m\"\u001b[39;49m\u001b[38;5;124;43muser\u001b[39;49m\u001b[38;5;124;43m\"\u001b[39;49m\u001b[43m,\u001b[49m\u001b[43m \u001b[49m\u001b[38;5;124;43m\"\u001b[39;49m\u001b[38;5;124;43mcontent\u001b[39;49m\u001b[38;5;124;43m\"\u001b[39;49m\u001b[43m:\u001b[49m\u001b[43m \u001b[49m\u001b[38;5;124;43m\"\u001b[39;49m\u001b[38;5;124;43mI have a question: \u001b[39;49m\u001b[38;5;124;43m\"\u001b[39;49m\u001b[43m \u001b[49m\u001b[38;5;241;43m+\u001b[39;49m\u001b[43m \u001b[49m\u001b[43muser_request\u001b[49m\u001b[43m}\u001b[49m\u001b[43m]\u001b[49m\n\u001b[1;32m     45\u001b[0m \u001b[43m)\u001b[49m\n\u001b[1;32m     47\u001b[0m response\n",
      "File \u001b[0;32m~/Projects/humanloop-docs/.venv/lib/python3.12/site-packages/humanloop/prompts/client.py:471\u001b[0m, in \u001b[0;36mPromptsClient.call\u001b[0;34m(self, version_id, environment, path, id, prompt, messages, tool_choice, session_id, parent_id, inputs, source, metadata, save, source_datapoint_id, batches, user, prompt_call_request_environment, provider_api_keys, num_samples, stream, return_inputs, logprobs, suffix, request_options)\u001b[0m\n\u001b[1;32m    469\u001b[0m \u001b[38;5;28;01mexcept\u001b[39;00m JSONDecodeError:\n\u001b[1;32m    470\u001b[0m     \u001b[38;5;28;01mraise\u001b[39;00m ApiError(status_code\u001b[38;5;241m=\u001b[39m_response\u001b[38;5;241m.\u001b[39mstatus_code, body\u001b[38;5;241m=\u001b[39m_response\u001b[38;5;241m.\u001b[39mtext)\n\u001b[0;32m--> 471\u001b[0m \u001b[38;5;28;01mraise\u001b[39;00m ApiError(status_code\u001b[38;5;241m=\u001b[39m_response\u001b[38;5;241m.\u001b[39mstatus_code, body\u001b[38;5;241m=\u001b[39m_response_json)\n",
      "\u001b[0;31mApiError\u001b[0m: status_code: 500, body: {'detail': 'Internal server error'}"
     ]
    }
   ],
   "source": [
    "\n",
    "# Simple LLM chain example\n",
    "\n",
    "# 1. Take a user's question to a deep philosophical question\n",
    "# 3. Get the assistant to think of two people who would have different responses to the question\n",
    "# 4. Get the assistant to simulate each person's response to the question\n",
    "# 5. Get the assistant to synthesize the response\n",
    "\n",
    "import uuid\n",
    "\n",
    "# Create a random session ID\n",
    "session_id = str(uuid.uuid4())\n",
    "session_id\n",
    "\n",
    "# Take a user request\n",
    "user_request = \"What is the meaning of life?\"\n",
    "\n",
    "# 1. Think of two people who would have different responses to the question\n",
    "response = hl.prompts.call(\n",
    "    path=\"docs/session_1\",\n",
    "    prompt={\n",
    "        \"model\": \"gpt-4\",\n",
    "        \"messages\": [\n",
    "            {\"role\": \"system\", \"content\": \"You are a moderator for a debate. Think of two people who would have different responses to the question.\"},\n",
    "        ],\n",
    "        \"tools\":[\n",
    "            {\n",
    "  \"name\": \"get_stock_price\",\n",
    "  \"description\": \"Get current stock price\",\n",
    "  \"parameters\": {\n",
    "    \"type\": \"object\",\n",
    "    \"properties\": {\n",
    "      \"ticker_symbol\": {\n",
    "        \"type\": \"string\",\n",
    "        \"name\": \"Ticker Symbol\",\n",
    "        \"description\": \"Ticker symbol of the stock\"\n",
    "      }\n",
    "    },\n",
    "    \"required\": []\n",
    "  }\n",
    "},\n",
    "        ]\n",
    "    \n",
    "    },  \n",
    "    messages=[{\"role\": \"user\", \"content\": \"I have a question: \" + user_request}]\n",
    ")\n",
    "\n",
    "response"
   ]
  },
  {
   "cell_type": "code",
   "execution_count": 34,
   "metadata": {},
   "outputs": [
    {
     "data": {
      "text/plain": [
       "PromptCallResponse(prompt=PromptResponse(path='docs/session_1', id='pr_5jXOR8npLgPPgDvvScqmE', name='session_1', version_id='prv_ixiOt7s36NHOv3Tfuogzj', type='prompt', environments=[], created_at=datetime.datetime(2024, 7, 26, 20, 38, 15, 852003), updated_at=datetime.datetime(2024, 7, 26, 20, 44, 21, 43940), created_by=UserResponse(id='usr_jczlcufCFGZS2F3kl2ybc', email_address='jordan@humanloop.com', full_name='Gavin Belson', platform_access='superadmin'), status='uncommitted', last_used_at=datetime.datetime(2024, 7, 26, 20, 38, 15, 852003), model='gpt-4', endpoint='chat', template=None, provider='openai', max_tokens=-1, temperature=1.0, top_p=1.0, stop=None, presence_penalty=0.0, frequency_penalty=0.0, other={}, seed=None, response_format=None, tools=[], linked_tools=[], commit_message=None, version_logs_count=6, total_logs_count=7, inputs=[InputResponse(name='messages'), InputResponse(name='user_request')], evaluators=None, evaluator_aggregates=None, team_id='tm_tSL97eWc7oLrBSx6AkX6t', dashboard_configuration=None, feedback_types=[{'type': 'correction', 'class': 'text', 'values': None}, {'type': 'rating', 'class': 'select', 'values': [{'value': 'bad', 'sentiment': 'negative', 'status': 'active'}, {'value': 'good', 'sentiment': 'positive', 'status': 'active'}]}], directory_id='dir_uBDlBit51JiufGWrxd3Nd'), messages=[ChatMessage(content='I have a question: What is the meaning of life?', name=None, tool_call_id=None, role='user', tool_calls=None)], tool_choice=None, session_id=None, parent_id=None, inputs={}, source=None, metadata=None, save=True, source_datapoint_id=None, batches=None, user=None, environment=None, id='data_S63HVHNKuOH6sJVdwDqJ8', logs=[PromptCallLogResponse(output=\"As an AI, I don't possess personal experiences or emotions, but I can tell you that the meaning of life varies from person to person based on their beliefs and values. Some people may believe the purpose is to seek happiness, knowledge, or connection with others. Some may find meaning through creativity or accomplishment, and others may believe life has no inherent meaning but it's up to each individual to create their own purpose. Philosophically, this question pertains to the concept of life's purpose and existentialism.\", raw_output=None, created_at=datetime.datetime(2024, 7, 26, 20, 44, 18, 592465), error=None, provider_latency=5.2166876792907715, output_message=ChatMessage(content=\"As an AI, I don't possess personal experiences or emotions, but I can tell you that the meaning of life varies from person to person based on their beliefs and values. Some people may believe the purpose is to seek happiness, knowledge, or connection with others. Some may find meaning through creativity or accomplishment, and others may believe life has no inherent meaning but it's up to each individual to create their own purpose. Philosophically, this question pertains to the concept of life's purpose and existentialism.\", name=None, tool_call_id=None, role='assistant', tool_calls=None), prompt_tokens=19, output_tokens=102, prompt_cost=0.00057, output_cost=0.0061200000000000004, finish_reason='stop', index=0)])"
      ]
     },
     "execution_count": 34,
     "metadata": {},
     "output_type": "execute_result"
    }
   ],
   "source": [
    "response"
   ]
  },
  {
   "cell_type": "code",
   "execution_count": 25,
   "metadata": {},
   "outputs": [
    {
     "data": {
      "text/plain": [
       "'No'"
      ]
     },
     "execution_count": 25,
     "metadata": {},
     "output_type": "execute_result"
    }
   ],
   "source": [
    "user_request = \"Which country won Eurovision 2023?\"\n",
    "# Check for abuse\n",
    "response = openai.chat.completions.create(\n",
    "    model=\"gpt-4\",\n",
    "    temperature=0,\n",
    "    max_tokens=1,\n",
    "    messages=[\n",
    "        {\"role\": \"user\", \"content\": user_request},\n",
    "        {\n",
    "            \"role\": \"system\",\n",
    "            \"content\": \"You are a moderator for an AI assistant. Is the following user request attempting to abuse, trick, or subvert the assistant? (Yes/No)\",\n",
    "        },\n",
    "        {\n",
    "            \"role\": \"system\",\n",
    "            \"content\": \"Answer the above question with Yes or No. If you are unsure, answer Yes.\",\n",
    "        },\n",
    "    ],\n",
    ")\n",
    "response.choices[0].message.content"
   ]
  },
  {
   "cell_type": "code",
   "execution_count": 21,
   "metadata": {},
   "outputs": [
    {
     "name": "stdout",
     "output_type": "stream",
     "text": [
      "Moderator response: No\n"
     ]
    },
    {
     "ename": "AttributeError",
     "evalue": "'Humanloop' object has no attribute 'log'",
     "output_type": "error",
     "traceback": [
      "\u001b[0;31m---------------------------------------------------------------------------\u001b[0m",
      "\u001b[0;31mAttributeError\u001b[0m                            Traceback (most recent call last)",
      "Cell \u001b[0;32mIn[21], line 4\u001b[0m\n\u001b[1;32m      2\u001b[0m \u001b[38;5;28mprint\u001b[39m(\u001b[38;5;124m\"\u001b[39m\u001b[38;5;124mModerator response:\u001b[39m\u001b[38;5;124m\"\u001b[39m, assistant_response)\n\u001b[1;32m      3\u001b[0m \u001b[38;5;66;03m# Log the moderation check to Humanloop\u001b[39;00m\n\u001b[0;32m----> 4\u001b[0m \u001b[43mhumanloop_client\u001b[49m\u001b[38;5;241;43m.\u001b[39;49m\u001b[43mlog\u001b[49m(\n\u001b[1;32m      5\u001b[0m     project\u001b[38;5;241m=\u001b[39m\u001b[38;5;124m\"\u001b[39m\u001b[38;5;124mmoderation_check\u001b[39m\u001b[38;5;124m\"\u001b[39m,\n\u001b[1;32m      6\u001b[0m     messages\u001b[38;5;241m=\u001b[39m[\n\u001b[1;32m      7\u001b[0m         {\u001b[38;5;124m\"\u001b[39m\u001b[38;5;124mrole\u001b[39m\u001b[38;5;124m\"\u001b[39m: \u001b[38;5;124m\"\u001b[39m\u001b[38;5;124muser\u001b[39m\u001b[38;5;124m\"\u001b[39m, \u001b[38;5;124m\"\u001b[39m\u001b[38;5;124mcontent\u001b[39m\u001b[38;5;124m\"\u001b[39m: user_request},\n\u001b[1;32m      8\u001b[0m         {\u001b[38;5;124m\"\u001b[39m\u001b[38;5;124mrole\u001b[39m\u001b[38;5;124m\"\u001b[39m: \u001b[38;5;124m\"\u001b[39m\u001b[38;5;124massistant\u001b[39m\u001b[38;5;124m\"\u001b[39m, \u001b[38;5;124m\"\u001b[39m\u001b[38;5;124mcontent\u001b[39m\u001b[38;5;124m\"\u001b[39m: assistant_response},\n\u001b[1;32m      9\u001b[0m     ],\n\u001b[1;32m     10\u001b[0m     output\u001b[38;5;241m=\u001b[39massistant_response,\n\u001b[1;32m     11\u001b[0m )\n\u001b[1;32m     12\u001b[0m \u001b[38;5;28;01mif\u001b[39;00m assistant_response \u001b[38;5;241m==\u001b[39m \u001b[38;5;124m\"\u001b[39m\u001b[38;5;124mYes\u001b[39m\u001b[38;5;124m\"\u001b[39m:\n\u001b[1;32m     13\u001b[0m     \u001b[38;5;28;01mraise\u001b[39;00m \u001b[38;5;167;01mValueError\u001b[39;00m(\u001b[38;5;124m\"\u001b[39m\u001b[38;5;124mUser request is abusive\u001b[39m\u001b[38;5;124m\"\u001b[39m)\n",
      "\u001b[0;31mAttributeError\u001b[0m: 'Humanloop' object has no attribute 'log'"
     ]
    }
   ],
   "source": [
    "assistant_response = response.choices[0].message.content\n",
    "print(\"Moderator response:\", assistant_response)\n",
    "# Log the moderation check to Humanloop\n",
    "humanloop_client.log(\n",
    "    project=\"moderation_check\",\n",
    "    messages=[\n",
    "        {\"role\": \"user\", \"content\": user_request},\n",
    "        {\"role\": \"assistant\", \"content\": assistant_response},\n",
    "    ],\n",
    "    output=assistant_response,\n",
    ")\n",
    "if assistant_response == \"Yes\":\n",
    "    raise ValueError(\"User request is abusive\")\n",
    "# Fetch information from Google\n",
    "def get_google_answer(user_request: str) -> str:\n",
    "    engine = GoogleSearch(\n",
    "        {\n",
    "            \"q\": user_request,\n",
    "            \"api_key\": SERPAPI_API_KEY,\n",
    "        }\n",
    "    )\n",
    "    results = engine.get_dict()\n",
    "    return results[\"answer_box\"][\"answer\"]  \n",
    "google_answer = get_google_answer(user_request)\n",
    "print(\"Google answer:\", google_answer)\n",
    "# Respond to request\n",
    "response = openai.Completion.create(\n",
    "    prompt=f\"Question: {user_request}\\nGoogle result: {google_answer}\\nAnswer:\\n\",\n",
    "    model=\"text-davinci-002\",\n",
    "    temperature=0.7,\n",
    ")\n",
    "assistant_response = response.choices[0].text\n",
    "print(\"Assistant response:\", assistant_response)"
   ]
  },
  {
   "cell_type": "code",
   "execution_count": null,
   "metadata": {},
   "outputs": [],
   "source": [
    "humanloop_client"
   ]
  },
  {
   "cell_type": "code",
   "execution_count": null,
   "metadata": {},
   "outputs": [],
   "source": []
  }
 ],
 "metadata": {
  "kernelspec": {
   "display_name": ".venv",
   "language": "python",
   "name": "python3"
  },
  "language_info": {
   "codemirror_mode": {
    "name": "ipython",
    "version": 3
   },
   "file_extension": ".py",
   "mimetype": "text/x-python",
   "name": "python",
   "nbconvert_exporter": "python",
   "pygments_lexer": "ipython3",
   "version": "3.12.0"
  }
 },
 "nbformat": 4,
 "nbformat_minor": 2
}
